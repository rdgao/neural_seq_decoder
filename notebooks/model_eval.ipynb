{
 "cells": [
  {
   "cell_type": "code",
   "execution_count": 1,
   "metadata": {},
   "outputs": [
    {
     "name": "stderr",
     "output_type": "stream",
     "text": [
      "/home/rdgao/miniconda3/envs/nsd_test/lib/python3.9/site-packages/tqdm/auto.py:21: TqdmWarning: IProgress not found. Please update jupyter and ipywidgets. See https://ipywidgets.readthedocs.io/en/stable/user_install.html\n",
      "  from .autonotebook import tqdm as notebook_tqdm\n"
     ]
    }
   ],
   "source": [
    "%load_ext autoreload\n",
    "%autoreload 2\n",
    "\n",
    "import re\n",
    "import time\n",
    "import pickle\n",
    "import numpy as np\n",
    "# from edit_distance import SequenceMatcher\n",
    "import torch\n",
    "import matplotlib.pyplot as plt\n",
    "\n",
    "from neural_decoder.dataset import SpeechDataset\n",
    "from neural_decoder.neural_decoder_trainer import getDatasetLoaders, loadModel\n",
    "from neural_decoder import lmDecoderUtils\n",
    "# import neuralDecoder.utils.lmDecoderUtils as lmDecoderUtils"
   ]
  },
  {
   "cell_type": "code",
   "execution_count": 2,
   "metadata": {},
   "outputs": [
    {
     "name": "stderr",
     "output_type": "stream",
     "text": [
      "/home/rdgao/miniconda3/envs/nsd_test/lib/python3.9/site-packages/torch/functional.py:504: UserWarning: torch.meshgrid: in an upcoming release, it will be required to pass the indexing argument. (Triggered internally at ../aten/src/ATen/native/TensorShape.cpp:3190.)\n",
      "  return _VF.meshgrid(tensors, **kwargs)  # type: ignore[attr-defined]\n"
     ]
    }
   ],
   "source": [
    "modelPath = \"/home/rdgao/Documents/data/human_speech/logs/speech_logs/speechBaseline4/\"\n",
    "with open(modelPath + \"/args\", \"rb\") as handle:\n",
    "    args = pickle.load(handle)\n",
    "\n",
    "args['datasetPath'] = '/home/rdgao/Documents/data/human_speech/ptDecoder_ctc'\n",
    "\n",
    "trainLoaders, testLoaders, loadedData = getDatasetLoaders(args[\"datasetPath\"], args[\"batchSize\"])\n",
    "\n",
    "device = \"cpu\"\n",
    "model = loadModel(modelPath, device=device)\n",
    "model.eval()\n",
    "\n",
    "rnn_outputs = {\n",
    "    \"logits\": [],\n",
    "    \"logitLengths\": [],\n",
    "    \"trueSeqs\": [],\n",
    "    \"transcriptions\": [],\n",
    "}"
   ]
  },
  {
   "cell_type": "markdown",
   "metadata": {},
   "source": [
    "Check model loss curves"
   ]
  },
  {
   "cell_type": "code",
   "execution_count": 3,
   "metadata": {},
   "outputs": [
    {
     "data": {
      "text/plain": [
       "Text(0.5, 1.0, 'Test CER')"
      ]
     },
     "execution_count": 3,
     "metadata": {},
     "output_type": "execute_result"
    },
    {
     "data": {
      "image/png": "[encoded data removed]",
      "text/plain": [
       "<Figure size 600x300 with 2 Axes>"
      ]
     },
     "metadata": {},
     "output_type": "display_data"
    }
   ],
   "source": [
    "# Load training stats\n",
    "with open(modelPath + \"/trainingStats\", \"rb\") as handle:\n",
    "    trainingStats = pickle.load(handle)\n",
    "\n",
    "fig,axes = plt.subplots(1,2, figsize=(6,3))\n",
    "axes[0].plot(trainingStats['testLoss']); axes[0].set_title('Test Loss')\n",
    "axes[1].plot(trainingStats['testCER']); axes[1].set_title('Test CER')"
   ]
  },
  {
   "cell_type": "markdown",
   "metadata": {},
   "source": [
    "Compute phoneme logprob predictions from neural data with RNN"
   ]
  },
  {
   "cell_type": "code",
   "execution_count": 4,
   "metadata": {},
   "outputs": [
    {
     "name": "stderr",
     "output_type": "stream",
     "text": [
      "/home/rdgao/Documents/code/research/neural_seq_decoder/src/neural_decoder/augmentations.py:91: UserWarning: Using padding='same' with even kernel lengths and odd dilation may require a zero-padded copy of the input be created (Triggered internally at ../aten/src/ATen/native/Convolution.cpp:895.)\n",
      "  return self.conv(input, weight=self.weight, groups=self.groups, padding=\"same\")\n"
     ]
    }
   ],
   "source": [
    "partition = \"test\" #\"competition\" # \"test\"\n",
    "if partition == \"competition\":\n",
    "    testDayIdxs = [4, 5, 6, 7, 8, 9, 10, 12, 13, 14, 15, 16, 18, 19, 20]\n",
    "elif partition == \"test\":\n",
    "    testDayIdxs = range(len(loadedData[partition]))\n",
    "\n",
    "for i, testDayIdx in enumerate(testDayIdxs[:2]):\n",
    "    test_ds = SpeechDataset([loadedData[partition][i]])\n",
    "    test_loader = torch.utils.data.DataLoader(\n",
    "        test_ds, batch_size=1, shuffle=False, num_workers=0\n",
    "    )\n",
    "    for j, (X, y, X_len, y_len, _) in enumerate(test_loader):\n",
    "        X, y, X_len, y_len, dayIdx = (\n",
    "            X.to(device),\n",
    "            y.to(device),\n",
    "            X_len.to(device),\n",
    "            y_len.to(device),\n",
    "            torch.tensor([testDayIdx], dtype=torch.int64).to(device),\n",
    "        )\n",
    "        pred = model.forward(X, dayIdx)\n",
    "        adjustedLens = ((X_len - model.kernelLen) / model.strideLen).to(torch.int32)\n",
    "\n",
    "        for iterIdx in range(pred.shape[0]):\n",
    "            trueSeq = np.array(y[iterIdx][0 : y_len[iterIdx]].cpu().detach())\n",
    "\n",
    "            rnn_outputs[\"logits\"].append(pred[iterIdx].cpu().detach().numpy())\n",
    "            rnn_outputs[\"logitLengths\"].append(\n",
    "                adjustedLens[iterIdx].cpu().detach().item()\n",
    "            )\n",
    "            rnn_outputs[\"trueSeqs\"].append(trueSeq)\n",
    "\n",
    "        transcript = loadedData[partition][i][\"transcriptions\"][j].strip()\n",
    "        transcript = re.sub(r\"[^a-zA-Z\\- \\']\", \"\", transcript)\n",
    "        transcript = transcript.replace(\"--\", \"\").lower()\n",
    "        rnn_outputs[\"transcriptions\"].append(transcript)"
   ]
  },
  {
   "cell_type": "code",
   "execution_count": 5,
   "metadata": {},
   "outputs": [
    {
     "name": "stderr",
     "output_type": "stream",
     "text": [
      "WARNING: Logging before InitGoogleLogging() is written to STDERR\n",
      "I0816 18:10:40.627791  3220 brain_speech_decoder.h:52] Reading fst /home/rdgao/Documents/data/human_speech/dryad_data/languageModel/TLG.fst\n",
      "I0816 18:13:13.491557  3220 brain_speech_decoder.h:81] Reading symbol table /home/rdgao/Documents/data/human_speech/dryad_data/languageModel/words.txt\n"
     ]
    }
   ],
   "source": [
    "lmDir = \"/home/rdgao/Documents/data/human_speech/dryad_data/languageModel/\" # 3-gram\n",
    "# lmDir = \"/home/rdgao/Documents/data/human_speech/dryad_data/speech_5gram/lang_test\" # 5-gram\n",
    "\n",
    "ngramDecoder = lmDecoderUtils.build_lm_decoder(\n",
    "    lmDir, acoustic_scale=0.5, nbest=100, beam=18\n",
    ")"
   ]
  },
  {
   "cell_type": "code",
   "execution_count": null,
   "metadata": {},
   "outputs": [],
   "source": [
    "# LM decoding hyperparameters\n",
    "acoustic_scale = 0.5\n",
    "blank_penalty = np.log(7)\n",
    "llm_weight = 0.5\n",
    "\n",
    "llm_outputs = []\n",
    "# Generate nbest outputs from 5gram LM\n",
    "start_t = time.time()\n",
    "nbest_outputs = []\n",
    "for j in range(len(rnn_outputs[\"logits\"])):\n",
    "    logits = rnn_outputs[\"logits\"][j]\n",
    "    logits = np.concatenate(\n",
    "        [logits[:, 1:], logits[:, 0:1]], axis=-1\n",
    "    )  # Blank is last token\n",
    "    logits = lmDecoderUtils.rearrange_speech_logits(logits[None, :, :], has_sil=True)\n",
    "    nbest = lmDecoderUtils.lm_decode(\n",
    "        ngramDecoder,\n",
    "        logits[0],\n",
    "        blankPenalty=blank_penalty,\n",
    "        returnNBest=True,\n",
    "        rescore=True,\n",
    "    )\n",
    "    nbest_outputs.append(nbest)\n",
    "time_per_sample = (time.time() - start_t) / len(rnn_outputs[\"logits\"])\n",
    "print(f\"5gram decoding took {time_per_sample} seconds per sample\")\n",
    "\n",
    "for i in range(len(rnn_outputs[\"transcriptions\"])):\n",
    "    new_trans = [ord(c) for c in rnn_outputs[\"transcriptions\"][i]] + [0]\n",
    "    rnn_outputs[\"transcriptions\"][i] = np.array(new_trans)\n"
   ]
  },
  {
   "cell_type": "code",
   "execution_count": null,
   "metadata": {},
   "outputs": [],
   "source": [
    "# lmDir = \"/oak/stanford/groups/henderj/stfan/code/nptlrig2/LanguageModelDecoder/examples/speech/s0/lm_order_exp/5gram/data/lang_test\"\n",
    "# ngramDecoder = lmDecoderUtils.build_lm_decoder(\n",
    "#     lmDir, acoustic_scale=0.5, nbest=100, beam=18\n",
    "# )\n",
    "\n",
    "\n",
    "\n",
    "# # LM decoding hyperparameters\n",
    "# acoustic_scale = 0.5\n",
    "# blank_penalty = np.log(7)\n",
    "# llm_weight = 0.5\n",
    "\n",
    "# llm_outputs = []\n",
    "# # Generate nbest outputs from 5gram LM\n",
    "# start_t = time.time()\n",
    "# nbest_outputs = []\n",
    "# for j in range(len(rnn_outputs[\"logits\"])):\n",
    "#     logits = rnn_outputs[\"logits\"][j]\n",
    "#     logits = np.concatenate(\n",
    "#         [logits[:, 1:], logits[:, 0:1]], axis=-1\n",
    "#     )  # Blank is last token\n",
    "#     logits = lmDecoderUtils.rearrange_speech_logits(logits[None, :, :], has_sil=True)\n",
    "#     nbest = lmDecoderUtils.lm_decode(\n",
    "#         ngramDecoder,\n",
    "#         logits[0],\n",
    "#         blankPenalty=blank_penalty,\n",
    "#         returnNBest=True,\n",
    "#         rescore=True,\n",
    "#     )\n",
    "#     nbest_outputs.append(nbest)\n",
    "# time_per_sample = (time.time() - start_t) / len(rnn_outputs[\"logits\"])\n",
    "# print(f\"5gram decoding took {time_per_sample} seconds per sample\")\n",
    "\n",
    "# for i in range(len(rnn_outputs[\"transcriptions\"])):\n",
    "#     new_trans = [ord(c) for c in rnn_outputs[\"transcriptions\"][i]] + [0]\n",
    "#     rnn_outputs[\"transcriptions\"][i] = np.array(new_trans)\n",
    "\n",
    "# # Rescore nbest outputs with LLM\n",
    "# start_t = time.time()\n",
    "# llm_out = lmDecoderUtils.cer_with_gpt2_decoder(\n",
    "#     llm,\n",
    "#     llm_tokenizer,\n",
    "#     nbest_outputs[:],\n",
    "#     acoustic_scale,\n",
    "#     rnn_outputs,\n",
    "#     outputType=\"speech_sil\",\n",
    "#     returnCI=True,\n",
    "#     lengthPenalty=0,\n",
    "#     alpha=llm_weight,\n",
    "# )\n",
    "# # time_per_sample = (time.time() - start_t) / len(logits)\n",
    "# print(f\"LLM decoding took {time_per_sample} seconds per sample\")\n",
    "\n",
    "# print(llm_out[\"cer\"], llm_out[\"wer\"])\n",
    "# with open(input_args.modelPath + \"/llm_out\", \"wb\") as handle:\n",
    "#     pickle.dump(llm_out, handle)\n",
    "\n",
    "# decodedTranscriptions = llm_out[\"decoded_transcripts\"]\n",
    "# with open(input_args.modelPath + \"/5gramLLMCompetitionSubmission.txt\", \"w\") as f:\n",
    "#     for x in range(len(decodedTranscriptions)):\n",
    "#         f.write(decodedTranscriptions[x] + \"\\n\")\n"
   ]
  }
 ],
 "metadata": {
  "kernelspec": {
   "display_name": "Python 3 (ipykernel)",
   "language": "python",
   "name": "python3"
  },
  "language_info": {
   "codemirror_mode": {
    "name": "ipython",
    "version": 3
   },
   "file_extension": ".py",
   "mimetype": "text/x-python",
   "name": "python",
   "nbconvert_exporter": "python",
   "pygments_lexer": "ipython3",
   "version": "3.9.19"
  }
 },
 "nbformat": 4,
 "nbformat_minor": 4
}
